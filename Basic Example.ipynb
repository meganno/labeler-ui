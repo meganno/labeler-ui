{
 "cells": [
  {
   "cell_type": "code",
   "execution_count": 1,
   "id": "5f661675",
   "metadata": {},
   "outputs": [
    {
     "name": "stdout",
     "output_type": "stream",
     "text": [
      "labeler-ui: 0.3.33\n"
     ]
    }
   ],
   "source": [
    "from labeler_ui import Annotation"
   ]
  },
  {
   "cell_type": "markdown",
   "id": "8d03d538",
   "metadata": {},
   "source": [
    "# Example schemas and configurations"
   ]
  },
  {
   "cell_type": "code",
   "execution_count": 2,
   "id": "89808da5",
   "metadata": {},
   "outputs": [],
   "source": [
    "label_schema = [{\n",
    "    \"name\": \"example_label\",\n",
    "    \"level\": \"record\", \n",
    "    \"options\": [\n",
    "        { \"value\": \"correct\", \"text\": \"Correct pair\" },\n",
    "        { \"value\": \"wrong\", \"text\": \"Incorrect pair\" },\n",
    "        { \"value\": 'pending', \"text\": \"Pending pair\" }\n",
    "    ]\n",
    "}, {\n",
    "    \"name\": \"test_label\",\n",
    "    \"level\": \"span_ch\", \n",
    "    \"options\": [\n",
    "        { \"value\": \"true\", \"text\": \"True\" },\n",
    "        { \"value\": \"false\", \"text\": \"False\" }\n",
    "    ]\n",
    "}]\n",
    "\n",
    "tag_schema = [{\n",
    "    \"name\": \"confidence\",\n",
    "    \"options\": [\n",
    "        { \"value\": \"hig\", \"text\": \"High\" },\n",
    "        { \"value\": \"med\", \"text\": \"Medium\" },\n",
    "        { \"value\": \"low\", \"text\": \"Low\" }\n",
    "    ]\n",
    "}, {\n",
    "    \"name\": \"verified\",\n",
    "    \"options\": [\n",
    "        { \"value\": \"yes\", \"text\": \"Yes\" },\n",
    "        { \"value\": \"no\", \"text\": \"No\" }\n",
    "    ]\n",
    "}]\n",
    "\n",
    "annotation_config = {\n",
    "    \"height\": 300, # number, minimum: 300\n",
    "    \"title\": \"Sentiment\", # string, default: \"Annotation\"\n",
    "    \"view\": \"table\", # \"single\"|\"table\", default: \"single\"\n",
    "    \"mode\": \"annotating\", # 'annotating'|\"reconciling\", default: \"annotating\"\n",
    "    \"label_schema\": label_schema, # default: []\n",
    "    \"tag_schema\": tag_schema, # default: []\n",
    "    \"annotator\": \"rafael\", # string, default: 'labeler-ui'\n",
    "}"
   ]
  },
  {
   "cell_type": "code",
   "execution_count": 3,
   "id": "6384accd",
   "metadata": {},
   "outputs": [],
   "source": [
    "example_data = [\n",
    "    {\n",
    "        'data': 'Lorem ipsum dolor sit amet, consectetur adipiscing elit, sed do eiusmod tempor incididunt ut labore et dolore magna aliqua. Est sit amet facilisis magna etiam. Aliquam purus sit amet luctus venenatis lectus magna fringilla. Eget mauris pharetra et ultrices neque ornare aenean euismod. Integer feugiat scelerisque varius morbi enim nunc. Quam id leo in vitae turpis massa sed elementum. Nunc pulvinar sapien et ligula ullamcorper malesuada. Elementum tempus egestas sed sed risus pretium. Risus viverra adipiscing at in tellus integer feugiat scelerisque. Vel elit scelerisque mauris pellentesque pulvinar pellentesque habitant morbi tristique. Molestie ac feugiat sed lectus vestibulum mattis. Sodales neque sodales ut etiam. Ultrices gravida dictum fusce ut. Est sit amet facilisis magna etiam tempor orci eu lobortis.',\n",
    "        'uuid': 'dd28e140-6f3e-4bf2-b84c-3fa319f2124a',\n",
    "        'metadata': [\n",
    "            { 'name': 'wiki', 'value': 'https://towardsdatascience.com/inter-rater-agreement-kappas-69cd8b91ff75' },\n",
    "            { 'name': 'where_from', 'value': 'placeholder text' },\n",
    "            { 'name': 'longer_meta_data_name', 'value': 'Lorem Ipsum is simply dummy text of the printing and typesetting industry. Lorem Ipsum has been the industry standard dummy text ever since the 1500s, when an unknown printer took a galley of type and scrambled it to make a type specimen book. It has survived not only five centuries, but also the leap into electronic typesetting, remaining essentially unchanged. It was popularised in the 1960s with the release of Letraset sheets containing Lorem Ipsum passages, and more recently with desktop publishing software like Aldus PageMaker including versions of Lorem Ipsum.' },\n",
    "        ]\n",
    "        \n",
    "    },\n",
    "    {\n",
    "        'data': 'Praesent sollicitudin, ante vitae molestie porttitor, elit ligula eleifend nunc, sit amet placerat nisl ante vel lacus.',\n",
    "        'uuid': '657c7aab-e12b-4bd0-80ac-41a0568f4b63'\n",
    "    },\n",
    "    {\n",
    "        'data': 'Eget est lorem ipsum dolor sit. Volutpat blandit aliquam etiam erat velit. Dui nunc mattis enim ut tellus elementum sagittis. Nulla porttitor massa id neque. In dictum non consectetur a erat nam at lectus. Massa sapien faucibus et molestie ac feugiat sed lectus. Tempor nec feugiat nisl pretium fusce id velit.',\n",
    "        'uuid': '032fc70c-45ae-455d-a140-f07b046e1225'\n",
    "    },\n",
    "    {\n",
    "        'data': 'Vulputate enim nulla aliquet porttitor lacus.',\n",
    "        'uuid': '0dbde3b2-9de7-4be6-9bde-3d4b8f1cfa7b'\n",
    "    }\n",
    "]"
   ]
  },
  {
   "cell_type": "markdown",
   "id": "4be9bdde",
   "metadata": {},
   "source": [
    "# To initialize Annotation widget under local mode\n",
    "https://github.com/rit-git/labeler-ui/wiki/Annotation#widget-state"
   ]
  },
  {
   "cell_type": "code",
   "execution_count": 4,
   "id": "63dd3375",
   "metadata": {},
   "outputs": [
    {
     "data": {
      "text/plain": [
       "show(7feca87d2580, self=<labeler_ui.Annotation.Annotation object at 0x7feca87d3e80>)"
      ]
     },
     "execution_count": 4,
     "metadata": {},
     "output_type": "execute_result"
    },
    {
     "data": {
      "application/vnd.jupyter.widget-view+json": {
       "model_id": "546d55df6fa541dc83b571bf37735c35",
       "version_major": 2,
       "version_minor": 0
      },
      "text/plain": [
       "LayoutWidget(Layout(show(7feca87d2580, self=<labeler_ui.Annotation.Annotation object at 0x7feca87d3e80>)))"
      ]
     },
     "metadata": {},
     "output_type": "display_data"
    }
   ],
   "source": [
    "widget = Annotation(data=example_data, config=annotation_config)\n",
    "widget.show()"
   ]
  },
  {
   "cell_type": "markdown",
   "id": "31814db3",
   "metadata": {},
   "source": [
    "# To export data from the widget"
   ]
  },
  {
   "cell_type": "code",
   "execution_count": 5,
   "id": "66dff074",
   "metadata": {},
   "outputs": [
    {
     "data": {
      "text/plain": [
       "[{'data': 'Lorem ipsum dolor sit amet, consectetur adipiscing elit, sed do eiusmod tempor incididunt ut labore et dolore magna aliqua. Est sit amet facilisis magna etiam. Aliquam purus sit amet luctus venenatis lectus magna fringilla. Eget mauris pharetra et ultrices neque ornare aenean euismod. Integer feugiat scelerisque varius morbi enim nunc. Quam id leo in vitae turpis massa sed elementum. Nunc pulvinar sapien et ligula ullamcorper malesuada. Elementum tempus egestas sed sed risus pretium. Risus viverra adipiscing at in tellus integer feugiat scelerisque. Vel elit scelerisque mauris pellentesque pulvinar pellentesque habitant morbi tristique. Molestie ac feugiat sed lectus vestibulum mattis. Sodales neque sodales ut etiam. Ultrices gravida dictum fusce ut. Est sit amet facilisis magna etiam tempor orci eu lobortis.',\n",
       "  'uuid': 'dd28e140-6f3e-4bf2-b84c-3fa319f2124a',\n",
       "  'metadata': [{'name': 'wiki',\n",
       "    'value': 'https://towardsdatascience.com/inter-rater-agreement-kappas-69cd8b91ff75'},\n",
       "   {'name': 'where_from', 'value': 'placeholder text'},\n",
       "   {'name': 'longer_meta_data_name',\n",
       "    'value': 'Lorem Ipsum is simply dummy text of the printing and typesetting industry. Lorem Ipsum has been the industry standard dummy text ever since the 1500s, when an unknown printer took a galley of type and scrambled it to make a type specimen book. It has survived not only five centuries, but also the leap into electronic typesetting, remaining essentially unchanged. It was popularised in the 1960s with the release of Letraset sheets containing Lorem Ipsum passages, and more recently with desktop publishing software like Aldus PageMaker including versions of Lorem Ipsum.'}]},\n",
       " {'data': 'Praesent sollicitudin, ante vitae molestie porttitor, elit ligula eleifend nunc, sit amet placerat nisl ante vel lacus.',\n",
       "  'uuid': '657c7aab-e12b-4bd0-80ac-41a0568f4b63'},\n",
       " {'data': 'Eget est lorem ipsum dolor sit. Volutpat blandit aliquam etiam erat velit. Dui nunc mattis enim ut tellus elementum sagittis. Nulla porttitor massa id neque. In dictum non consectetur a erat nam at lectus. Massa sapien faucibus et molestie ac feugiat sed lectus. Tempor nec feugiat nisl pretium fusce id velit.',\n",
       "  'uuid': '032fc70c-45ae-455d-a140-f07b046e1225'},\n",
       " {'data': 'Vulputate enim nulla aliquet porttitor lacus.',\n",
       "  'uuid': '0dbde3b2-9de7-4be6-9bde-3d4b8f1cfa7b'}]"
      ]
     },
     "execution_count": 5,
     "metadata": {},
     "output_type": "execute_result"
    }
   ],
   "source": [
    "widget.get_data()"
   ]
  },
  {
   "cell_type": "code",
   "execution_count": null,
   "id": "ca573328",
   "metadata": {},
   "outputs": [],
   "source": []
  }
 ],
 "metadata": {
  "kernelspec": {
   "display_name": "Python 3 (ipykernel)",
   "language": "python",
   "name": "python3"
  },
  "language_info": {
   "codemirror_mode": {
    "name": "ipython",
    "version": 3
   },
   "file_extension": ".py",
   "mimetype": "text/x-python",
   "name": "python",
   "nbconvert_exporter": "python",
   "pygments_lexer": "ipython3",
   "version": "3.9.6"
  }
 },
 "nbformat": 4,
 "nbformat_minor": 5
}
